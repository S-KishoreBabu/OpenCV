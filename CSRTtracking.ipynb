{
 "cells": [
  {
   "cell_type": "code",
   "execution_count": null,
   "id": "8d007205-212a-47b4-bb3b-43d4303406fb",
   "metadata": {},
   "outputs": [],
   "source": [
    "import cv2\n",
    "print(cv2.__version__)\n"
   ]
  },
  {
   "cell_type": "code",
   "execution_count": 1,
   "id": "5eea539a-9f67-49eb-bd06-68db1e66c64e",
   "metadata": {},
   "outputs": [],
   "source": [
    "import cv2\n",
    "\n",
    "video_path = 'input_video.mp4'\n",
    "cap = cv2.VideoCapture(video_path)\n",
    "\n",
    "ret, frame = cap.read()\n",
    "if not ret:\n",
    "    print(\"Failed to read video\")\n",
    "    cap.release()\n",
    "    exit()\n",
    "\n",
    "scale_percent = 50 \n",
    "width = int(frame.shape[1] * scale_percent / 100)\n",
    "height = int(frame.shape[0] * scale_percent / 100)\n",
    "dim = (width, height)\n",
    "\n",
    "resized_frame = cv2.resize(frame, dim, interpolation=cv2.INTER_AREA)\n",
    "roi = cv2.selectROI(\"Select ROI\", resized_frame, fromCenter=False, showCrosshair=False)\n",
    "cv2.destroyWindow(\"Select ROI\")\n"
   ]
  },
  {
   "cell_type": "code",
   "execution_count": 5,
   "id": "85d136d2-16f9-47de-af4b-a4d261343677",
   "metadata": {},
   "outputs": [],
   "source": [
    "\n",
    "output_path = 'tracked_output.mp4'\n",
    "fourcc = cv2.VideoWriter_fourcc(*'mp4v') \n",
    "fps = cap.get(cv2.CAP_PROP_FPS)\n",
    "frame_size = (frame.shape[1], frame.shape[0])\n",
    "\n",
    "out = cv2.VideoWriter(output_path, fourcc, fps, frame_size)\n"
   ]
  },
  {
   "cell_type": "code",
   "execution_count": 7,
   "id": "55a6e846-8e96-43ec-adbd-9769bf3f3b29",
   "metadata": {},
   "outputs": [],
   "source": [
    "\n",
    "tracker = cv2.TrackerCSRT_create()\n",
    "\n",
    "x, y, w, h = roi\n",
    "x = int(x * 100 / scale_percent)\n",
    "y = int(y * 100 / scale_percent)\n",
    "w = int(w * 100 / scale_percent)\n",
    "h = int(h * 100 / scale_percent)\n",
    "\n",
    "roi_scaled = (x, y, w, h)\n",
    "\n",
    "tracker.init(frame, roi_scaled)\n"
   ]
  },
  {
   "cell_type": "code",
   "execution_count": 9,
   "id": "74b758c1-9dfc-49ad-900f-7b6cd78cb7d8",
   "metadata": {},
   "outputs": [
    {
     "name": "stdout",
     "output_type": "stream",
     "text": [
      "I did not get the Frame\n",
      "Tracking video saved as: tracked_output.mp4\n"
     ]
    }
   ],
   "source": [
    "# trail_points = []\n",
    "while True:\n",
    "    ret, frame = cap.read()\n",
    "    if not ret:\n",
    "        print(\"I did not get the Frame\")\n",
    "        break\n",
    "    \n",
    "    success, box = tracker.update(frame)\n",
    "    if success:\n",
    "        x, y, w, h = map(int, box)\n",
    "        # center = (x + w // 2, y + h // 2)\n",
    "        # trail_points.append(center)\n",
    "        # cv2.rectangle(img, (x - padding, y - text_h - padding),(x + text_w + padding, y + padding),bg_color, -1)\n",
    "        cv2.rectangle(frame, (x-2, y - 40), (x + 150, y), (0,252,0), -1)\n",
    "        cv2.rectangle(frame, (x, y), (x + w, y + h), (0,252,0), 3)\n",
    "        b, g, r = frame[y-100, x]\n",
    "        bgColor = (int(b), int(g), int(r))  # Convert each to native Python int\n",
    "        cv2.putText(frame, \"Tracking\", (x, y - 10), cv2.FONT_HERSHEY_SIMPLEX, 1, bgColor, 2)\n",
    "        # for i in range(1, len(trail_points)):\n",
    "        #     cv2.line(frame, trail_points[i - 1], trail_points[i], (255, 0, 0), 2)\n",
    "    else:\n",
    "        cv2.putText(frame, \"Lost\", (50, 50), cv2.FONT_HERSHEY_SIMPLEX, 2, (0, 0, 255), 1)\n",
    "\n",
    "    display_frame = cv2.resize(frame, (width, height))\n",
    "    out.write(frame)\n",
    "\n",
    "    cv2.imshow(\"CSRT Tracking\", display_frame)\n",
    "\n",
    "    if cv2.waitKey(30) & 0xFF == 27: \n",
    "        break\n",
    "cap.release()\n",
    "cv2.destroyAllWindows()\n",
    "out.release()\n",
    "print(\"Tracking video saved as:\", output_path)"
   ]
  },
  {
   "cell_type": "code",
   "execution_count": null,
   "id": "d163572b-8e35-4963-9411-e7586e72a3de",
   "metadata": {},
   "outputs": [],
   "source": []
  }
 ],
 "metadata": {
  "kernelspec": {
   "display_name": "base",
   "language": "python",
   "name": "python3"
  },
  "language_info": {
   "codemirror_mode": {
    "name": "ipython",
    "version": 3
   },
   "file_extension": ".py",
   "mimetype": "text/x-python",
   "name": "python",
   "nbconvert_exporter": "python",
   "pygments_lexer": "ipython3",
   "version": "3.12.7"
  }
 },
 "nbformat": 4,
 "nbformat_minor": 5
}
